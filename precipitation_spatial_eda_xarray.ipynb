{
 "cells": [
  {
   "cell_type": "code",
   "execution_count": 1,
   "metadata": {},
   "outputs": [],
   "source": [
    "import xarray as xr"
   ]
  },
  {
   "cell_type": "code",
   "execution_count": 2,
   "metadata": {},
   "outputs": [],
   "source": [
    "ds = xr.open_dataset('pnwrain.50km.daily.4994.nc', decode_times=False)"
   ]
  },
  {
   "cell_type": "code",
   "execution_count": 3,
   "metadata": {},
   "outputs": [
    {
     "name": "stdout",
     "output_type": "stream",
     "text": [
      "xarray.Dataset {\n",
      "dimensions:\n",
      "\tlat = 17 ;\n",
      "\tlon = 16 ;\n",
      "\ttime = 16801 ;\n",
      "\n",
      "variables:\n",
      "\tfloat32 lat(lat) ;\n",
      "\t\tlat:title = Latitude ;\n",
      "\t\tlat:units = degrees_north ;\n",
      "\tfloat32 lon(lon) ;\n",
      "\t\tlon:title = Longitude ;\n",
      "\t\tlon:units = degrees_east ;\n",
      "\tfloat64 time(time) ;\n",
      "\t\ttime:title = Time ;\n",
      "\t\ttime:units = days    since 1949- 1- 1  0: 0: 0 ;\n",
      "\tfloat32 data(time, lat, lon) ;\n",
      "\t\tdata:long_name = mm/day ;\n",
      "\t\tdata:units = mm/day ;\n",
      "\n",
      "// global attributes:\n",
      "}"
     ]
    }
   ],
   "source": [
    "ds.info()"
   ]
  },
  {
   "cell_type": "markdown",
   "metadata": {},
   "source": [
    "### Manually decode time variable since it fails when opening dataset\n",
    "\n",
    "the extra spaces of the attribute unit string of the time variable is causing this issue"
   ]
  },
  {
   "cell_type": "code",
   "execution_count": 4,
   "metadata": {},
   "outputs": [
    {
     "name": "stdout",
     "output_type": "stream",
     "text": [
      "<xarray.DataArray 'time' (time: 16801)>\n",
      "array([0.0000e+00, 1.0000e+00, 2.0000e+00, ..., 1.6798e+04, 1.6799e+04,\n",
      "       1.6800e+04])\n",
      "Coordinates:\n",
      "  * time     (time) float64 0.0 1.0 2.0 3.0 ... 1.68e+04 1.68e+04 1.68e+04\n",
      "Attributes:\n",
      "    title:    Time\n",
      "    units:    days    since 1949- 1- 1  0: 0: 0\n"
     ]
    }
   ],
   "source": [
    "print(ds['time'])"
   ]
  },
  {
   "cell_type": "code",
   "execution_count": 5,
   "metadata": {},
   "outputs": [],
   "source": [
    "time_values = ds.time.values"
   ]
  },
  {
   "cell_type": "markdown",
   "metadata": {},
   "source": [
    "Extract time values and units"
   ]
  },
  {
   "cell_type": "code",
   "execution_count": 6,
   "metadata": {},
   "outputs": [],
   "source": [
    "time_values = ds.time.values\n",
    "\n",
    "# Empty spaces in the unit string will cause issue on num2date function\n",
    "# time_units = ds.time.attrs['units']"
   ]
  },
  {
   "cell_type": "code",
   "execution_count": 7,
   "metadata": {},
   "outputs": [],
   "source": [
    "# Manually Parse the units string instead\n",
    "reference_date = '1949-01-01 00:00:00'\n",
    "time_units = 'days since ' + reference_date"
   ]
  },
  {
   "cell_type": "markdown",
   "metadata": {},
   "source": [
    "Decode time values (assume Gregorian calendar )"
   ]
  },
  {
   "cell_type": "code",
   "execution_count": 8,
   "metadata": {},
   "outputs": [],
   "source": [
    "from cftime import num2date\n",
    "\n",
    "time_index = num2date(time_values, units=time_units)"
   ]
  },
  {
   "cell_type": "code",
   "execution_count": 10,
   "metadata": {},
   "outputs": [],
   "source": [
    "# Create a Dataset with the time_index variable\n",
    "time_ds = xr.Dataset({'time_index': ('time', time_index)})\n",
    "\n",
    "# Merge the time_ds Dataset with the original dataset\n",
    "ds = xr.merge([ds, time_ds], combine_attrs='override')"
   ]
  },
  {
   "cell_type": "code",
   "execution_count": 16,
   "metadata": {},
   "outputs": [],
   "source": [
    "ds['time'].attrs = {\n",
    "    'title': 'Time',\n",
    "    'units': 'days since 1949-01-01 00:00:00'\n",
    "}"
   ]
  },
  {
   "cell_type": "code",
   "execution_count": 19,
   "metadata": {},
   "outputs": [],
   "source": [
    "# Set time as the index\n",
    "ds = ds.set_index(time='time')"
   ]
  },
  {
   "cell_type": "code",
   "execution_count": 17,
   "metadata": {},
   "outputs": [
    {
     "name": "stdout",
     "output_type": "stream",
     "text": [
      "xarray.Dataset {\n",
      "dimensions:\n",
      "\tlat = 17 ;\n",
      "\tlon = 16 ;\n",
      "\ttime = 16801 ;\n",
      "\n",
      "variables:\n",
      "\tfloat32 lat(lat) ;\n",
      "\t\tlat:title = Latitude ;\n",
      "\t\tlat:units = degrees_north ;\n",
      "\tfloat32 lon(lon) ;\n",
      "\t\tlon:title = Longitude ;\n",
      "\t\tlon:units = degrees_east ;\n",
      "\tobject time(time) ;\n",
      "\t\ttime:title = Time ;\n",
      "\t\ttime:units = days since 1949-01-01 00:00:00 ;\n",
      "\tfloat32 data(time, lat, lon) ;\n",
      "\t\tdata:long_name = mm/day ;\n",
      "\t\tdata:units = mm/day ;\n",
      "\n",
      "// global attributes:\n",
      "}"
     ]
    }
   ],
   "source": [
    "ds.info()"
   ]
  }
 ],
 "metadata": {
  "kernelspec": {
   "display_name": "Python 3",
   "language": "python",
   "name": "python3"
  },
  "language_info": {
   "codemirror_mode": {
    "name": "ipython",
    "version": 3
   },
   "file_extension": ".py",
   "mimetype": "text/x-python",
   "name": "python",
   "nbconvert_exporter": "python",
   "pygments_lexer": "ipython3",
   "version": "3.11.3"
  }
 },
 "nbformat": 4,
 "nbformat_minor": 2
}
