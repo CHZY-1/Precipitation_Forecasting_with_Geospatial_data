{
 "cells": [
  {
   "cell_type": "code",
   "execution_count": 311,
   "metadata": {},
   "outputs": [],
   "source": [
    "import xarray as xr\n",
    "import pandas as pd"
   ]
  },
  {
   "cell_type": "code",
   "execution_count": 312,
   "metadata": {},
   "outputs": [],
   "source": [
    "ds = xr.open_dataset('pnwrain.50km.daily.4994.nc', decode_times=False)"
   ]
  },
  {
   "cell_type": "code",
   "execution_count": 313,
   "metadata": {},
   "outputs": [
    {
     "name": "stdout",
     "output_type": "stream",
     "text": [
      "xarray.Dataset {\n",
      "dimensions:\n",
      "\tlat = 17 ;\n",
      "\tlon = 16 ;\n",
      "\ttime = 16801 ;\n",
      "\n",
      "variables:\n",
      "\tfloat32 lat(lat) ;\n",
      "\t\tlat:title = Latitude ;\n",
      "\t\tlat:units = degrees_north ;\n",
      "\tfloat32 lon(lon) ;\n",
      "\t\tlon:title = Longitude ;\n",
      "\t\tlon:units = degrees_east ;\n",
      "\tfloat64 time(time) ;\n",
      "\t\ttime:title = Time ;\n",
      "\t\ttime:units = days    since 1949- 1- 1  0: 0: 0 ;\n",
      "\tfloat32 data(time, lat, lon) ;\n",
      "\t\tdata:long_name = mm/day ;\n",
      "\t\tdata:units = mm/day ;\n",
      "\n",
      "// global attributes:\n",
      "}"
     ]
    }
   ],
   "source": [
    "ds.info()"
   ]
  },
  {
   "cell_type": "markdown",
   "metadata": {},
   "source": [
    "### Manually decode time variable since it fails when opening dataset\n",
    "\n",
    "the extra spaces of the attribute unit string of the time variable is causing this issue"
   ]
  },
  {
   "cell_type": "code",
   "execution_count": 314,
   "metadata": {},
   "outputs": [
    {
     "name": "stdout",
     "output_type": "stream",
     "text": [
      "<xarray.DataArray 'time' (time: 16801)>\n",
      "array([0.0000e+00, 1.0000e+00, 2.0000e+00, ..., 1.6798e+04, 1.6799e+04,\n",
      "       1.6800e+04])\n",
      "Coordinates:\n",
      "  * time     (time) float64 0.0 1.0 2.0 3.0 ... 1.68e+04 1.68e+04 1.68e+04\n",
      "Attributes:\n",
      "    title:    Time\n",
      "    units:    days    since 1949- 1- 1  0: 0: 0\n"
     ]
    }
   ],
   "source": [
    "print(ds['time'])"
   ]
  },
  {
   "cell_type": "code",
   "execution_count": 315,
   "metadata": {},
   "outputs": [],
   "source": [
    "time_values = ds.time.values"
   ]
  },
  {
   "cell_type": "markdown",
   "metadata": {},
   "source": [
    "Extract time values and units"
   ]
  },
  {
   "cell_type": "code",
   "execution_count": 316,
   "metadata": {},
   "outputs": [],
   "source": [
    "time_values = ds.time.values\n",
    "\n",
    "# Empty spaces in the unit string will cause issue on num2date function\n",
    "# time_units = ds.time.attrs['units']"
   ]
  },
  {
   "cell_type": "code",
   "execution_count": 317,
   "metadata": {},
   "outputs": [],
   "source": [
    "# Manually Parse the units string instead\n",
    "reference_date = '1949-01-01 00:00:00'\n",
    "time_units = 'days since ' + reference_date"
   ]
  },
  {
   "cell_type": "markdown",
   "metadata": {},
   "source": [
    "Decode time values (assume Gregorian calendar )"
   ]
  },
  {
   "cell_type": "code",
   "execution_count": 318,
   "metadata": {},
   "outputs": [],
   "source": [
    "from cftime import num2date\n",
    "\n",
    "time_index = num2date(time_values, units=time_units)"
   ]
  },
  {
   "cell_type": "code",
   "execution_count": 319,
   "metadata": {},
   "outputs": [],
   "source": [
    "# Create a Dataset with the time_index variable\n",
    "time_ds = xr.Dataset({'time_index': ('time', time_index)})\n",
    "\n",
    "# Merge the time_ds Dataset with the original dataset\n",
    "ds = xr.merge([ds, time_ds], combine_attrs='override')"
   ]
  },
  {
   "cell_type": "code",
   "execution_count": 320,
   "metadata": {},
   "outputs": [],
   "source": [
    "# Set 'time_index' as the new coordinate for 'time'\n",
    "ds = ds.assign_coords({'time': ds['time_index']})"
   ]
  },
  {
   "cell_type": "code",
   "execution_count": 321,
   "metadata": {},
   "outputs": [],
   "source": [
    "ds = ds.drop_vars('time_index')"
   ]
  },
  {
   "cell_type": "code",
   "execution_count": 322,
   "metadata": {},
   "outputs": [],
   "source": [
    "ds['time'].attrs = {\n",
    "    'title': 'Time',\n",
    "    'units': 'days since 1949-01-01 00:00:00'\n",
    "}"
   ]
  },
  {
   "cell_type": "code",
   "execution_count": 323,
   "metadata": {},
   "outputs": [],
   "source": [
    "# Set time as the index\n",
    "ds = ds.set_index(time='time')"
   ]
  },
  {
   "cell_type": "code",
   "execution_count": 324,
   "metadata": {},
   "outputs": [],
   "source": [
    "# convert cftime.DatetimeGregorian to datetime\n",
    "datetimeindex = ds.indexes['time'].to_datetimeindex()\n",
    "ds['time'] = datetimeindex"
   ]
  },
  {
   "cell_type": "code",
   "execution_count": 325,
   "metadata": {},
   "outputs": [
    {
     "name": "stdout",
     "output_type": "stream",
     "text": [
      "xarray.Dataset {\n",
      "dimensions:\n",
      "\tlat = 17 ;\n",
      "\tlon = 16 ;\n",
      "\ttime = 16801 ;\n",
      "\n",
      "variables:\n",
      "\tfloat32 lat(lat) ;\n",
      "\t\tlat:title = Latitude ;\n",
      "\t\tlat:units = degrees_north ;\n",
      "\tfloat32 lon(lon) ;\n",
      "\t\tlon:title = Longitude ;\n",
      "\t\tlon:units = degrees_east ;\n",
      "\tdatetime64[ns] time(time) ;\n",
      "\tfloat32 data(time, lat, lon) ;\n",
      "\t\tdata:long_name = mm/day ;\n",
      "\t\tdata:units = mm/day ;\n",
      "\n",
      "// global attributes:\n",
      "}"
     ]
    }
   ],
   "source": [
    "ds.info()"
   ]
  },
  {
   "cell_type": "markdown",
   "metadata": {},
   "source": [
    "Check gap in dates"
   ]
  },
  {
   "cell_type": "code",
   "execution_count": 326,
   "metadata": {},
   "outputs": [],
   "source": [
    "# Calculate the differences between consecutive time points\n",
    "time_diff = ds['time'].diff(dim='time')\n",
    "\n",
    "# Convert time differences to a more interpretable format, like days\n",
    "time_diff_in_days = time_diff / pd.to_timedelta(1, unit='D')"
   ]
  },
  {
   "cell_type": "code",
   "execution_count": 327,
   "metadata": {},
   "outputs": [],
   "source": [
    "# more than 1 day is consider a gap\n",
    "large_gap_threshold = 1  # days\n",
    "\n",
    "# Find where the gaps exceed this threshold\n",
    "large_gaps = time_diff_in_days.where(time_diff_in_days > large_gap_threshold, drop=True)"
   ]
  },
  {
   "cell_type": "code",
   "execution_count": 328,
   "metadata": {},
   "outputs": [
    {
     "name": "stdout",
     "output_type": "stream",
     "text": [
      "No large gaps found in the dates.\n"
     ]
    }
   ],
   "source": [
    "# Check if there are gaps\n",
    "if len(large_gaps) > 0:\n",
    "    print(\"Large gaps found at the following times:\")\n",
    "    print(large_gaps)\n",
    "else:\n",
    "    print(\"No large gaps found in the dates.\")"
   ]
  },
  {
   "cell_type": "markdown",
   "metadata": {},
   "source": [
    "Flatten data"
   ]
  },
  {
   "cell_type": "code",
   "execution_count": 329,
   "metadata": {},
   "outputs": [],
   "source": [
    "# Stack 'lat' and 'lon' to create a single 'spatial' dimension\n",
    "data_flat = ds['data'].stack(all_points=('time', 'lat', 'lon'))"
   ]
  },
  {
   "cell_type": "code",
   "execution_count": 330,
   "metadata": {},
   "outputs": [
    {
     "data": {
      "text/html": [
       "<div><svg style=\"position: absolute; width: 0; height: 0; overflow: hidden\">\n",
       "<defs>\n",
       "<symbol id=\"icon-database\" viewBox=\"0 0 32 32\">\n",
       "<path d=\"M16 0c-8.837 0-16 2.239-16 5v4c0 2.761 7.163 5 16 5s16-2.239 16-5v-4c0-2.761-7.163-5-16-5z\"></path>\n",
       "<path d=\"M16 17c-8.837 0-16-2.239-16-5v6c0 2.761 7.163 5 16 5s16-2.239 16-5v-6c0 2.761-7.163 5-16 5z\"></path>\n",
       "<path d=\"M16 26c-8.837 0-16-2.239-16-5v6c0 2.761 7.163 5 16 5s16-2.239 16-5v-6c0 2.761-7.163 5-16 5z\"></path>\n",
       "</symbol>\n",
       "<symbol id=\"icon-file-text2\" viewBox=\"0 0 32 32\">\n",
       "<path d=\"M28.681 7.159c-0.694-0.947-1.662-2.053-2.724-3.116s-2.169-2.030-3.116-2.724c-1.612-1.182-2.393-1.319-2.841-1.319h-15.5c-1.378 0-2.5 1.121-2.5 2.5v27c0 1.378 1.122 2.5 2.5 2.5h23c1.378 0 2.5-1.122 2.5-2.5v-19.5c0-0.448-0.137-1.23-1.319-2.841zM24.543 5.457c0.959 0.959 1.712 1.825 2.268 2.543h-4.811v-4.811c0.718 0.556 1.584 1.309 2.543 2.268zM28 29.5c0 0.271-0.229 0.5-0.5 0.5h-23c-0.271 0-0.5-0.229-0.5-0.5v-27c0-0.271 0.229-0.5 0.5-0.5 0 0 15.499-0 15.5 0v7c0 0.552 0.448 1 1 1h7v19.5z\"></path>\n",
       "<path d=\"M23 26h-14c-0.552 0-1-0.448-1-1s0.448-1 1-1h14c0.552 0 1 0.448 1 1s-0.448 1-1 1z\"></path>\n",
       "<path d=\"M23 22h-14c-0.552 0-1-0.448-1-1s0.448-1 1-1h14c0.552 0 1 0.448 1 1s-0.448 1-1 1z\"></path>\n",
       "<path d=\"M23 18h-14c-0.552 0-1-0.448-1-1s0.448-1 1-1h14c0.552 0 1 0.448 1 1s-0.448 1-1 1z\"></path>\n",
       "</symbol>\n",
       "</defs>\n",
       "</svg>\n",
       "<style>/* CSS stylesheet for displaying xarray objects in jupyterlab.\n",
       " *\n",
       " */\n",
       "\n",
       ":root {\n",
       "  --xr-font-color0: var(--jp-content-font-color0, rgba(0, 0, 0, 1));\n",
       "  --xr-font-color2: var(--jp-content-font-color2, rgba(0, 0, 0, 0.54));\n",
       "  --xr-font-color3: var(--jp-content-font-color3, rgba(0, 0, 0, 0.38));\n",
       "  --xr-border-color: var(--jp-border-color2, #e0e0e0);\n",
       "  --xr-disabled-color: var(--jp-layout-color3, #bdbdbd);\n",
       "  --xr-background-color: var(--jp-layout-color0, white);\n",
       "  --xr-background-color-row-even: var(--jp-layout-color1, white);\n",
       "  --xr-background-color-row-odd: var(--jp-layout-color2, #eeeeee);\n",
       "}\n",
       "\n",
       "html[theme=dark],\n",
       "body[data-theme=dark],\n",
       "body.vscode-dark {\n",
       "  --xr-font-color0: rgba(255, 255, 255, 1);\n",
       "  --xr-font-color2: rgba(255, 255, 255, 0.54);\n",
       "  --xr-font-color3: rgba(255, 255, 255, 0.38);\n",
       "  --xr-border-color: #1F1F1F;\n",
       "  --xr-disabled-color: #515151;\n",
       "  --xr-background-color: #111111;\n",
       "  --xr-background-color-row-even: #111111;\n",
       "  --xr-background-color-row-odd: #313131;\n",
       "}\n",
       "\n",
       ".xr-wrap {\n",
       "  display: block !important;\n",
       "  min-width: 300px;\n",
       "  max-width: 700px;\n",
       "}\n",
       "\n",
       ".xr-text-repr-fallback {\n",
       "  /* fallback to plain text repr when CSS is not injected (untrusted notebook) */\n",
       "  display: none;\n",
       "}\n",
       "\n",
       ".xr-header {\n",
       "  padding-top: 6px;\n",
       "  padding-bottom: 6px;\n",
       "  margin-bottom: 4px;\n",
       "  border-bottom: solid 1px var(--xr-border-color);\n",
       "}\n",
       "\n",
       ".xr-header > div,\n",
       ".xr-header > ul {\n",
       "  display: inline;\n",
       "  margin-top: 0;\n",
       "  margin-bottom: 0;\n",
       "}\n",
       "\n",
       ".xr-obj-type,\n",
       ".xr-array-name {\n",
       "  margin-left: 2px;\n",
       "  margin-right: 10px;\n",
       "}\n",
       "\n",
       ".xr-obj-type {\n",
       "  color: var(--xr-font-color2);\n",
       "}\n",
       "\n",
       ".xr-sections {\n",
       "  padding-left: 0 !important;\n",
       "  display: grid;\n",
       "  grid-template-columns: 150px auto auto 1fr 20px 20px;\n",
       "}\n",
       "\n",
       ".xr-section-item {\n",
       "  display: contents;\n",
       "}\n",
       "\n",
       ".xr-section-item input {\n",
       "  display: none;\n",
       "}\n",
       "\n",
       ".xr-section-item input + label {\n",
       "  color: var(--xr-disabled-color);\n",
       "}\n",
       "\n",
       ".xr-section-item input:enabled + label {\n",
       "  cursor: pointer;\n",
       "  color: var(--xr-font-color2);\n",
       "}\n",
       "\n",
       ".xr-section-item input:enabled + label:hover {\n",
       "  color: var(--xr-font-color0);\n",
       "}\n",
       "\n",
       ".xr-section-summary {\n",
       "  grid-column: 1;\n",
       "  color: var(--xr-font-color2);\n",
       "  font-weight: 500;\n",
       "}\n",
       "\n",
       ".xr-section-summary > span {\n",
       "  display: inline-block;\n",
       "  padding-left: 0.5em;\n",
       "}\n",
       "\n",
       ".xr-section-summary-in:disabled + label {\n",
       "  color: var(--xr-font-color2);\n",
       "}\n",
       "\n",
       ".xr-section-summary-in + label:before {\n",
       "  display: inline-block;\n",
       "  content: '►';\n",
       "  font-size: 11px;\n",
       "  width: 15px;\n",
       "  text-align: center;\n",
       "}\n",
       "\n",
       ".xr-section-summary-in:disabled + label:before {\n",
       "  color: var(--xr-disabled-color);\n",
       "}\n",
       "\n",
       ".xr-section-summary-in:checked + label:before {\n",
       "  content: '▼';\n",
       "}\n",
       "\n",
       ".xr-section-summary-in:checked + label > span {\n",
       "  display: none;\n",
       "}\n",
       "\n",
       ".xr-section-summary,\n",
       ".xr-section-inline-details {\n",
       "  padding-top: 4px;\n",
       "  padding-bottom: 4px;\n",
       "}\n",
       "\n",
       ".xr-section-inline-details {\n",
       "  grid-column: 2 / -1;\n",
       "}\n",
       "\n",
       ".xr-section-details {\n",
       "  display: none;\n",
       "  grid-column: 1 / -1;\n",
       "  margin-bottom: 5px;\n",
       "}\n",
       "\n",
       ".xr-section-summary-in:checked ~ .xr-section-details {\n",
       "  display: contents;\n",
       "}\n",
       "\n",
       ".xr-array-wrap {\n",
       "  grid-column: 1 / -1;\n",
       "  display: grid;\n",
       "  grid-template-columns: 20px auto;\n",
       "}\n",
       "\n",
       ".xr-array-wrap > label {\n",
       "  grid-column: 1;\n",
       "  vertical-align: top;\n",
       "}\n",
       "\n",
       ".xr-preview {\n",
       "  color: var(--xr-font-color3);\n",
       "}\n",
       "\n",
       ".xr-array-preview,\n",
       ".xr-array-data {\n",
       "  padding: 0 5px !important;\n",
       "  grid-column: 2;\n",
       "}\n",
       "\n",
       ".xr-array-data,\n",
       ".xr-array-in:checked ~ .xr-array-preview {\n",
       "  display: none;\n",
       "}\n",
       "\n",
       ".xr-array-in:checked ~ .xr-array-data,\n",
       ".xr-array-preview {\n",
       "  display: inline-block;\n",
       "}\n",
       "\n",
       ".xr-dim-list {\n",
       "  display: inline-block !important;\n",
       "  list-style: none;\n",
       "  padding: 0 !important;\n",
       "  margin: 0;\n",
       "}\n",
       "\n",
       ".xr-dim-list li {\n",
       "  display: inline-block;\n",
       "  padding: 0;\n",
       "  margin: 0;\n",
       "}\n",
       "\n",
       ".xr-dim-list:before {\n",
       "  content: '(';\n",
       "}\n",
       "\n",
       ".xr-dim-list:after {\n",
       "  content: ')';\n",
       "}\n",
       "\n",
       ".xr-dim-list li:not(:last-child):after {\n",
       "  content: ',';\n",
       "  padding-right: 5px;\n",
       "}\n",
       "\n",
       ".xr-has-index {\n",
       "  font-weight: bold;\n",
       "}\n",
       "\n",
       ".xr-var-list,\n",
       ".xr-var-item {\n",
       "  display: contents;\n",
       "}\n",
       "\n",
       ".xr-var-item > div,\n",
       ".xr-var-item label,\n",
       ".xr-var-item > .xr-var-name span {\n",
       "  background-color: var(--xr-background-color-row-even);\n",
       "  margin-bottom: 0;\n",
       "}\n",
       "\n",
       ".xr-var-item > .xr-var-name:hover span {\n",
       "  padding-right: 5px;\n",
       "}\n",
       "\n",
       ".xr-var-list > li:nth-child(odd) > div,\n",
       ".xr-var-list > li:nth-child(odd) > label,\n",
       ".xr-var-list > li:nth-child(odd) > .xr-var-name span {\n",
       "  background-color: var(--xr-background-color-row-odd);\n",
       "}\n",
       "\n",
       ".xr-var-name {\n",
       "  grid-column: 1;\n",
       "}\n",
       "\n",
       ".xr-var-dims {\n",
       "  grid-column: 2;\n",
       "}\n",
       "\n",
       ".xr-var-dtype {\n",
       "  grid-column: 3;\n",
       "  text-align: right;\n",
       "  color: var(--xr-font-color2);\n",
       "}\n",
       "\n",
       ".xr-var-preview {\n",
       "  grid-column: 4;\n",
       "}\n",
       "\n",
       ".xr-index-preview {\n",
       "  grid-column: 2 / 5;\n",
       "  color: var(--xr-font-color2);\n",
       "}\n",
       "\n",
       ".xr-var-name,\n",
       ".xr-var-dims,\n",
       ".xr-var-dtype,\n",
       ".xr-preview,\n",
       ".xr-attrs dt {\n",
       "  white-space: nowrap;\n",
       "  overflow: hidden;\n",
       "  text-overflow: ellipsis;\n",
       "  padding-right: 10px;\n",
       "}\n",
       "\n",
       ".xr-var-name:hover,\n",
       ".xr-var-dims:hover,\n",
       ".xr-var-dtype:hover,\n",
       ".xr-attrs dt:hover {\n",
       "  overflow: visible;\n",
       "  width: auto;\n",
       "  z-index: 1;\n",
       "}\n",
       "\n",
       ".xr-var-attrs,\n",
       ".xr-var-data,\n",
       ".xr-index-data {\n",
       "  display: none;\n",
       "  background-color: var(--xr-background-color) !important;\n",
       "  padding-bottom: 5px !important;\n",
       "}\n",
       "\n",
       ".xr-var-attrs-in:checked ~ .xr-var-attrs,\n",
       ".xr-var-data-in:checked ~ .xr-var-data,\n",
       ".xr-index-data-in:checked ~ .xr-index-data {\n",
       "  display: block;\n",
       "}\n",
       "\n",
       ".xr-var-data > table {\n",
       "  float: right;\n",
       "}\n",
       "\n",
       ".xr-var-name span,\n",
       ".xr-var-data,\n",
       ".xr-index-name div,\n",
       ".xr-index-data,\n",
       ".xr-attrs {\n",
       "  padding-left: 25px !important;\n",
       "}\n",
       "\n",
       ".xr-attrs,\n",
       ".xr-var-attrs,\n",
       ".xr-var-data,\n",
       ".xr-index-data {\n",
       "  grid-column: 1 / -1;\n",
       "}\n",
       "\n",
       "dl.xr-attrs {\n",
       "  padding: 0;\n",
       "  margin: 0;\n",
       "  display: grid;\n",
       "  grid-template-columns: 125px auto;\n",
       "}\n",
       "\n",
       ".xr-attrs dt,\n",
       ".xr-attrs dd {\n",
       "  padding: 0;\n",
       "  margin: 0;\n",
       "  float: left;\n",
       "  padding-right: 10px;\n",
       "  width: auto;\n",
       "}\n",
       "\n",
       ".xr-attrs dt {\n",
       "  font-weight: normal;\n",
       "  grid-column: 1;\n",
       "}\n",
       "\n",
       ".xr-attrs dt:hover span {\n",
       "  display: inline-block;\n",
       "  background: var(--xr-background-color);\n",
       "  padding-right: 10px;\n",
       "}\n",
       "\n",
       ".xr-attrs dd {\n",
       "  grid-column: 2;\n",
       "  white-space: pre-wrap;\n",
       "  word-break: break-all;\n",
       "}\n",
       "\n",
       ".xr-icon-database,\n",
       ".xr-icon-file-text2,\n",
       ".xr-no-icon {\n",
       "  display: inline-block;\n",
       "  vertical-align: middle;\n",
       "  width: 1em;\n",
       "  height: 1.5em !important;\n",
       "  stroke-width: 0;\n",
       "  stroke: currentColor;\n",
       "  fill: currentColor;\n",
       "}\n",
       "</style><pre class='xr-text-repr-fallback'>&lt;xarray.DataArray &#x27;data&#x27; (all_points: 4569872)&gt;\n",
       "array([nan, nan, nan, ..., 7.4, nan, nan], dtype=float32)\n",
       "Coordinates:\n",
       "  * all_points  (all_points) object MultiIndex\n",
       "  * time        (all_points) datetime64[ns] 1949-01-01 1949-01-01 ... 1994-12-31\n",
       "  * lat         (all_points) float32 49.76 49.76 49.76 ... 42.14 42.14 42.14\n",
       "  * lon         (all_points) float32 -125.6 -125.0 -124.4 ... -116.9 -116.2\n",
       "Attributes:\n",
       "    long_name:  mm/day\n",
       "    units:      mm/day</pre><div class='xr-wrap' style='display:none'><div class='xr-header'><div class='xr-obj-type'>xarray.DataArray</div><div class='xr-array-name'>'data'</div><ul class='xr-dim-list'><li><span class='xr-has-index'>all_points</span>: 4569872</li></ul></div><ul class='xr-sections'><li class='xr-section-item'><div class='xr-array-wrap'><input id='section-7c8f54a4-6eb4-4c96-aa1d-121824bb5e41' class='xr-array-in' type='checkbox' checked><label for='section-7c8f54a4-6eb4-4c96-aa1d-121824bb5e41' title='Show/hide data repr'><svg class='icon xr-icon-database'><use xlink:href='#icon-database'></use></svg></label><div class='xr-array-preview xr-preview'><span>nan nan nan nan nan nan nan nan ... 0.0 0.0 0.0 23.9 25.8 7.4 nan nan</span></div><div class='xr-array-data'><pre>array([nan, nan, nan, ..., 7.4, nan, nan], dtype=float32)</pre></div></div></li><li class='xr-section-item'><input id='section-d98cdb35-517a-4cd1-8184-19af40f78bc9' class='xr-section-summary-in' type='checkbox'  checked><label for='section-d98cdb35-517a-4cd1-8184-19af40f78bc9' class='xr-section-summary' >Coordinates: <span>(4)</span></label><div class='xr-section-inline-details'></div><div class='xr-section-details'><ul class='xr-var-list'><li class='xr-var-item'><div class='xr-var-name'><span class='xr-has-index'>all_points</span></div><div class='xr-var-dims'>(all_points)</div><div class='xr-var-dtype'>object</div><div class='xr-var-preview xr-preview'>MultiIndex</div><input id='attrs-8d7bbbab-d653-429d-87cd-9e95b1ae0a6d' class='xr-var-attrs-in' type='checkbox' disabled><label for='attrs-8d7bbbab-d653-429d-87cd-9e95b1ae0a6d' title='Show/Hide attributes'><svg class='icon xr-icon-file-text2'><use xlink:href='#icon-file-text2'></use></svg></label><input id='data-c7a98691-f30a-41a4-8156-3ec3869c68d3' class='xr-var-data-in' type='checkbox'><label for='data-c7a98691-f30a-41a4-8156-3ec3869c68d3' title='Show/Hide data repr'><svg class='icon xr-icon-database'><use xlink:href='#icon-database'></use></svg></label><div class='xr-var-attrs'><dl class='xr-attrs'></dl></div><div class='xr-var-data'><pre>array([(Timestamp(&#x27;1949-01-01 00:00:00&#x27;), 49.76094055175781, -125.625),\n",
       "       (Timestamp(&#x27;1949-01-01 00:00:00&#x27;), 49.76094055175781, -125.0),\n",
       "       (Timestamp(&#x27;1949-01-01 00:00:00&#x27;), 49.76094055175781, -124.375), ...,\n",
       "       (Timestamp(&#x27;1994-12-31 00:00:00&#x27;), 42.142059326171875, -117.5),\n",
       "       (Timestamp(&#x27;1994-12-31 00:00:00&#x27;), 42.142059326171875, -116.875),\n",
       "       (Timestamp(&#x27;1994-12-31 00:00:00&#x27;), 42.142059326171875, -116.25)],\n",
       "      dtype=object)</pre></div></li><li class='xr-var-item'><div class='xr-var-name'><span class='xr-has-index'>time</span></div><div class='xr-var-dims'>(all_points)</div><div class='xr-var-dtype'>datetime64[ns]</div><div class='xr-var-preview xr-preview'>1949-01-01 ... 1994-12-31</div><input id='attrs-4bf1d6ba-782a-477d-9115-6858667e91b1' class='xr-var-attrs-in' type='checkbox' disabled><label for='attrs-4bf1d6ba-782a-477d-9115-6858667e91b1' title='Show/Hide attributes'><svg class='icon xr-icon-file-text2'><use xlink:href='#icon-file-text2'></use></svg></label><input id='data-66a7cc4d-5653-413d-9784-0b0b081051f5' class='xr-var-data-in' type='checkbox'><label for='data-66a7cc4d-5653-413d-9784-0b0b081051f5' title='Show/Hide data repr'><svg class='icon xr-icon-database'><use xlink:href='#icon-database'></use></svg></label><div class='xr-var-attrs'><dl class='xr-attrs'></dl></div><div class='xr-var-data'><pre>array([&#x27;1949-01-01T00:00:00.000000000&#x27;, &#x27;1949-01-01T00:00:00.000000000&#x27;,\n",
       "       &#x27;1949-01-01T00:00:00.000000000&#x27;, ..., &#x27;1994-12-31T00:00:00.000000000&#x27;,\n",
       "       &#x27;1994-12-31T00:00:00.000000000&#x27;, &#x27;1994-12-31T00:00:00.000000000&#x27;],\n",
       "      dtype=&#x27;datetime64[ns]&#x27;)</pre></div></li><li class='xr-var-item'><div class='xr-var-name'><span class='xr-has-index'>lat</span></div><div class='xr-var-dims'>(all_points)</div><div class='xr-var-dtype'>float32</div><div class='xr-var-preview xr-preview'>49.76 49.76 49.76 ... 42.14 42.14</div><input id='attrs-feb0e39f-c107-403a-b67f-1a5ca06172b7' class='xr-var-attrs-in' type='checkbox' ><label for='attrs-feb0e39f-c107-403a-b67f-1a5ca06172b7' title='Show/Hide attributes'><svg class='icon xr-icon-file-text2'><use xlink:href='#icon-file-text2'></use></svg></label><input id='data-b62751c8-9d03-4d71-909b-fa42d65b9954' class='xr-var-data-in' type='checkbox'><label for='data-b62751c8-9d03-4d71-909b-fa42d65b9954' title='Show/Hide data repr'><svg class='icon xr-icon-database'><use xlink:href='#icon-database'></use></svg></label><div class='xr-var-attrs'><dl class='xr-attrs'><dt><span>title :</span></dt><dd>Latitude</dd><dt><span>units :</span></dt><dd>degrees_north</dd></dl></div><div class='xr-var-data'><pre>array([49.76094, 49.76094, 49.76094, ..., 42.14206, 42.14206, 42.14206],\n",
       "      dtype=float32)</pre></div></li><li class='xr-var-item'><div class='xr-var-name'><span class='xr-has-index'>lon</span></div><div class='xr-var-dims'>(all_points)</div><div class='xr-var-dtype'>float32</div><div class='xr-var-preview xr-preview'>-125.6 -125.0 ... -116.9 -116.2</div><input id='attrs-a6bba2d0-eb96-4628-a8c4-364a1f0bb467' class='xr-var-attrs-in' type='checkbox' ><label for='attrs-a6bba2d0-eb96-4628-a8c4-364a1f0bb467' title='Show/Hide attributes'><svg class='icon xr-icon-file-text2'><use xlink:href='#icon-file-text2'></use></svg></label><input id='data-54d308ca-8e43-4104-98ee-04cd2d023506' class='xr-var-data-in' type='checkbox'><label for='data-54d308ca-8e43-4104-98ee-04cd2d023506' title='Show/Hide data repr'><svg class='icon xr-icon-database'><use xlink:href='#icon-database'></use></svg></label><div class='xr-var-attrs'><dl class='xr-attrs'><dt><span>title :</span></dt><dd>Longitude</dd><dt><span>units :</span></dt><dd>degrees_east</dd></dl></div><div class='xr-var-data'><pre>array([-125.625, -125.   , -124.375, ..., -117.5  , -116.875, -116.25 ],\n",
       "      dtype=float32)</pre></div></li></ul></div></li><li class='xr-section-item'><input id='section-1ea5952e-1be8-4335-a38c-d367584c24eb' class='xr-section-summary-in' type='checkbox'  ><label for='section-1ea5952e-1be8-4335-a38c-d367584c24eb' class='xr-section-summary' >Indexes: <span>(1)</span></label><div class='xr-section-inline-details'></div><div class='xr-section-details'><ul class='xr-var-list'><li class='xr-var-item'><div class='xr-index-name'><div>all_points<br>time<br>lat<br>lon</div></div><div class='xr-index-preview'>PandasMultiIndex</div><div></div><input id='index-182ae92b-682f-436c-ac28-d1295dbb605c' class='xr-index-data-in' type='checkbox'/><label for='index-182ae92b-682f-436c-ac28-d1295dbb605c' title='Show/Hide index repr'><svg class='icon xr-icon-database'><use xlink:href='#icon-database'></use></svg></label><div class='xr-index-data'><pre>PandasIndex(MultiIndex([(&#x27;1949-01-01&#x27;,  49.76094055175781, -125.625),\n",
       "            (&#x27;1949-01-01&#x27;,  49.76094055175781,   -125.0),\n",
       "            (&#x27;1949-01-01&#x27;,  49.76094055175781, -124.375),\n",
       "            (&#x27;1949-01-01&#x27;,  49.76094055175781,  -123.75),\n",
       "            (&#x27;1949-01-01&#x27;,  49.76094055175781, -123.125),\n",
       "            (&#x27;1949-01-01&#x27;,  49.76094055175781,   -122.5),\n",
       "            (&#x27;1949-01-01&#x27;,  49.76094055175781, -121.875),\n",
       "            (&#x27;1949-01-01&#x27;,  49.76094055175781,  -121.25),\n",
       "            (&#x27;1949-01-01&#x27;,  49.76094055175781, -120.625),\n",
       "            (&#x27;1949-01-01&#x27;,  49.76094055175781,   -120.0),\n",
       "            ...\n",
       "            (&#x27;1994-12-31&#x27;, 42.142059326171875, -121.875),\n",
       "            (&#x27;1994-12-31&#x27;, 42.142059326171875,  -121.25),\n",
       "            (&#x27;1994-12-31&#x27;, 42.142059326171875, -120.625),\n",
       "            (&#x27;1994-12-31&#x27;, 42.142059326171875,   -120.0),\n",
       "            (&#x27;1994-12-31&#x27;, 42.142059326171875, -119.375),\n",
       "            (&#x27;1994-12-31&#x27;, 42.142059326171875,  -118.75),\n",
       "            (&#x27;1994-12-31&#x27;, 42.142059326171875, -118.125),\n",
       "            (&#x27;1994-12-31&#x27;, 42.142059326171875,   -117.5),\n",
       "            (&#x27;1994-12-31&#x27;, 42.142059326171875, -116.875),\n",
       "            (&#x27;1994-12-31&#x27;, 42.142059326171875,  -116.25)],\n",
       "           name=&#x27;all_points&#x27;, length=4569872))</pre></div></li></ul></div></li><li class='xr-section-item'><input id='section-47e999b9-f497-4abf-bae2-c9e5ca2fab69' class='xr-section-summary-in' type='checkbox'  checked><label for='section-47e999b9-f497-4abf-bae2-c9e5ca2fab69' class='xr-section-summary' >Attributes: <span>(2)</span></label><div class='xr-section-inline-details'></div><div class='xr-section-details'><dl class='xr-attrs'><dt><span>long_name :</span></dt><dd>mm/day</dd><dt><span>units :</span></dt><dd>mm/day</dd></dl></div></li></ul></div></div>"
      ],
      "text/plain": [
       "<xarray.DataArray 'data' (all_points: 4569872)>\n",
       "array([nan, nan, nan, ..., 7.4, nan, nan], dtype=float32)\n",
       "Coordinates:\n",
       "  * all_points  (all_points) object MultiIndex\n",
       "  * time        (all_points) datetime64[ns] 1949-01-01 1949-01-01 ... 1994-12-31\n",
       "  * lat         (all_points) float32 49.76 49.76 49.76 ... 42.14 42.14 42.14\n",
       "  * lon         (all_points) float32 -125.6 -125.0 -124.4 ... -116.9 -116.2\n",
       "Attributes:\n",
       "    long_name:  mm/day\n",
       "    units:      mm/day"
      ]
     },
     "execution_count": 330,
     "metadata": {},
     "output_type": "execute_result"
    }
   ],
   "source": [
    "data_flat"
   ]
  },
  {
   "cell_type": "code",
   "execution_count": 331,
   "metadata": {},
   "outputs": [],
   "source": [
    "df_flat = data_flat.to_dataframe(name='precipitation').reset_index(drop=True)"
   ]
  },
  {
   "cell_type": "code",
   "execution_count": 332,
   "metadata": {},
   "outputs": [
    {
     "name": "stdout",
     "output_type": "stream",
     "text": [
      "Index(['time', 'lat', 'lon', 'precipitation'], dtype='object')\n"
     ]
    }
   ],
   "source": [
    "print(df_flat.columns)"
   ]
  },
  {
   "cell_type": "code",
   "execution_count": 333,
   "metadata": {},
   "outputs": [
    {
     "data": {
      "text/html": [
       "<div>\n",
       "<style scoped>\n",
       "    .dataframe tbody tr th:only-of-type {\n",
       "        vertical-align: middle;\n",
       "    }\n",
       "\n",
       "    .dataframe tbody tr th {\n",
       "        vertical-align: top;\n",
       "    }\n",
       "\n",
       "    .dataframe thead th {\n",
       "        text-align: right;\n",
       "    }\n",
       "</style>\n",
       "<table border=\"1\" class=\"dataframe\">\n",
       "  <thead>\n",
       "    <tr style=\"text-align: right;\">\n",
       "      <th></th>\n",
       "      <th>time</th>\n",
       "      <th>lat</th>\n",
       "      <th>lon</th>\n",
       "      <th>precipitation</th>\n",
       "    </tr>\n",
       "  </thead>\n",
       "  <tbody>\n",
       "    <tr>\n",
       "      <th>0</th>\n",
       "      <td>1949-01-01</td>\n",
       "      <td>49.760941</td>\n",
       "      <td>-125.625</td>\n",
       "      <td>NaN</td>\n",
       "    </tr>\n",
       "    <tr>\n",
       "      <th>1</th>\n",
       "      <td>1949-01-01</td>\n",
       "      <td>49.760941</td>\n",
       "      <td>-125.000</td>\n",
       "      <td>NaN</td>\n",
       "    </tr>\n",
       "    <tr>\n",
       "      <th>2</th>\n",
       "      <td>1949-01-01</td>\n",
       "      <td>49.760941</td>\n",
       "      <td>-124.375</td>\n",
       "      <td>NaN</td>\n",
       "    </tr>\n",
       "    <tr>\n",
       "      <th>3</th>\n",
       "      <td>1949-01-01</td>\n",
       "      <td>49.760941</td>\n",
       "      <td>-123.750</td>\n",
       "      <td>NaN</td>\n",
       "    </tr>\n",
       "    <tr>\n",
       "      <th>4</th>\n",
       "      <td>1949-01-01</td>\n",
       "      <td>49.760941</td>\n",
       "      <td>-123.125</td>\n",
       "      <td>NaN</td>\n",
       "    </tr>\n",
       "    <tr>\n",
       "      <th>5</th>\n",
       "      <td>1949-01-01</td>\n",
       "      <td>49.760941</td>\n",
       "      <td>-122.500</td>\n",
       "      <td>NaN</td>\n",
       "    </tr>\n",
       "    <tr>\n",
       "      <th>6</th>\n",
       "      <td>1949-01-01</td>\n",
       "      <td>49.760941</td>\n",
       "      <td>-121.875</td>\n",
       "      <td>NaN</td>\n",
       "    </tr>\n",
       "    <tr>\n",
       "      <th>7</th>\n",
       "      <td>1949-01-01</td>\n",
       "      <td>49.760941</td>\n",
       "      <td>-121.250</td>\n",
       "      <td>NaN</td>\n",
       "    </tr>\n",
       "    <tr>\n",
       "      <th>8</th>\n",
       "      <td>1949-01-01</td>\n",
       "      <td>49.760941</td>\n",
       "      <td>-120.625</td>\n",
       "      <td>NaN</td>\n",
       "    </tr>\n",
       "    <tr>\n",
       "      <th>9</th>\n",
       "      <td>1949-01-01</td>\n",
       "      <td>49.760941</td>\n",
       "      <td>-120.000</td>\n",
       "      <td>NaN</td>\n",
       "    </tr>\n",
       "  </tbody>\n",
       "</table>\n",
       "</div>"
      ],
      "text/plain": [
       "        time        lat      lon  precipitation\n",
       "0 1949-01-01  49.760941 -125.625            NaN\n",
       "1 1949-01-01  49.760941 -125.000            NaN\n",
       "2 1949-01-01  49.760941 -124.375            NaN\n",
       "3 1949-01-01  49.760941 -123.750            NaN\n",
       "4 1949-01-01  49.760941 -123.125            NaN\n",
       "5 1949-01-01  49.760941 -122.500            NaN\n",
       "6 1949-01-01  49.760941 -121.875            NaN\n",
       "7 1949-01-01  49.760941 -121.250            NaN\n",
       "8 1949-01-01  49.760941 -120.625            NaN\n",
       "9 1949-01-01  49.760941 -120.000            NaN"
      ]
     },
     "execution_count": 333,
     "metadata": {},
     "output_type": "execute_result"
    }
   ],
   "source": [
    "df_flat.head(10)"
   ]
  },
  {
   "cell_type": "markdown",
   "metadata": {},
   "source": [
    "Handle missing value in data"
   ]
  },
  {
   "cell_type": "code",
   "execution_count": 334,
   "metadata": {},
   "outputs": [],
   "source": [
    "df_flat['precipitation'].fillna(0, inplace=True)"
   ]
  },
  {
   "cell_type": "markdown",
   "metadata": {},
   "source": [
    "Check duplicated rows"
   ]
  },
  {
   "cell_type": "code",
   "execution_count": 335,
   "metadata": {},
   "outputs": [
    {
     "name": "stdout",
     "output_type": "stream",
     "text": [
      "Number of duplicate rows: 0\n"
     ]
    }
   ],
   "source": [
    "# Check for any duplicate rows based on all columns\n",
    "duplicate_rows = df_flat.duplicated()\n",
    "print(\"Number of duplicate rows:\", duplicate_rows.sum())\n",
    "\n",
    "# To see the actual duplicate rows\n",
    "if duplicate_rows.sum() > 0:\n",
    "    print(df_flat[duplicate_rows])"
   ]
  },
  {
   "cell_type": "markdown",
   "metadata": {},
   "source": [
    "Feature engineering"
   ]
  },
  {
   "cell_type": "code",
   "execution_count": 336,
   "metadata": {},
   "outputs": [],
   "source": [
    "df_flat['month'] = df_flat['time'].dt.month\n",
    "df_flat['year'] = df_flat['time'].dt.year"
   ]
  },
  {
   "cell_type": "code",
   "execution_count": 337,
   "metadata": {},
   "outputs": [
    {
     "ename": "ModuleNotFoundError",
     "evalue": "No module named 'mpl_toolkits.basemap'",
     "output_type": "error",
     "traceback": [
      "\u001b[1;31m---------------------------------------------------------------------------\u001b[0m",
      "\u001b[1;31mModuleNotFoundError\u001b[0m                       Traceback (most recent call last)",
      "Cell \u001b[1;32mIn[337], line 2\u001b[0m\n\u001b[0;32m      1\u001b[0m \u001b[38;5;28;01mimport\u001b[39;00m \u001b[38;5;21;01mmatplotlib\u001b[39;00m\u001b[38;5;21;01m.\u001b[39;00m\u001b[38;5;21;01mpyplot\u001b[39;00m \u001b[38;5;28;01mas\u001b[39;00m \u001b[38;5;21;01mplt\u001b[39;00m\n\u001b[1;32m----> 2\u001b[0m \u001b[38;5;28;01mfrom\u001b[39;00m \u001b[38;5;21;01mmpl_toolkits\u001b[39;00m\u001b[38;5;21;01m.\u001b[39;00m\u001b[38;5;21;01mbasemap\u001b[39;00m \u001b[38;5;28;01mimport\u001b[39;00m Basemap\n\u001b[0;32m      4\u001b[0m \u001b[38;5;66;03m# Define the boundaries of the map and resolution\u001b[39;00m\n\u001b[0;32m      5\u001b[0m fig, ax \u001b[38;5;241m=\u001b[39m plt\u001b[38;5;241m.\u001b[39msubplots(figsize\u001b[38;5;241m=\u001b[39m(\u001b[38;5;241m10\u001b[39m, \u001b[38;5;241m8\u001b[39m))\n",
      "\u001b[1;31mModuleNotFoundError\u001b[0m: No module named 'mpl_toolkits.basemap'"
     ]
    }
   ],
   "source": [
    "import matplotlib.pyplot as plt\n",
    "from mpl_toolkits.basemap import Basemap\n",
    "\n",
    "# Define the boundaries of the map and resolution\n",
    "fig, ax = plt.subplots(figsize=(10, 8))\n",
    "m = Basemap(projection='merc', llcrnrlat=df_flat['lat'].min(), urcrnrlat=df_flat['lat'].max(),\n",
    "            llcrnrlon=df_flat['lon'].min(), urcrnrlon=df_flat['lon'].max(), resolution='i')\n",
    "\n",
    "m.drawcoastlines()\n",
    "m.drawcountries()\n",
    "m.drawstates()\n",
    "\n",
    "# Convert lat and lon to map projection coordinates\n",
    "lons, lats = m(df_flat['lon'].values, df_flat['lat'].values)\n",
    "\n",
    "# Scatter plot\n",
    "sc = m.scatter(lons, lats, c=df_flat['precipitation'], cmap='viridis', alpha=0.5)\n",
    "cbar = m.colorbar(sc, location='bottom', pad=\"10%\")\n",
    "cbar.set_label('Precipitation (mm/day)')\n",
    "\n",
    "plt.title('Spatial Distribution of Precipitation')\n",
    "plt.show()"
   ]
  },
  {
   "cell_type": "code",
   "execution_count": null,
   "metadata": {},
   "outputs": [],
   "source": []
  }
 ],
 "metadata": {
  "kernelspec": {
   "display_name": "Python 3",
   "language": "python",
   "name": "python3"
  },
  "language_info": {
   "codemirror_mode": {
    "name": "ipython",
    "version": 3
   },
   "file_extension": ".py",
   "mimetype": "text/x-python",
   "name": "python",
   "nbconvert_exporter": "python",
   "pygments_lexer": "ipython3",
   "version": "3.10.10"
  }
 },
 "nbformat": 4,
 "nbformat_minor": 2
}
